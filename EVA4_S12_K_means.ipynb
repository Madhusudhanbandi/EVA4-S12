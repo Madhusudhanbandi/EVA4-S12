{
  "nbformat": 4,
  "nbformat_minor": 0,
  "metadata": {
    "colab": {
      "name": "EVA4_S12_K_means.ipynb",
      "provenance": [],
      "authorship_tag": "ABX9TyMOdOiZMClHknDEsBTsMxhV",
      "include_colab_link": true
    },
    "kernelspec": {
      "name": "python3",
      "display_name": "Python 3"
    }
  },
  "cells": [
    {
      "cell_type": "markdown",
      "metadata": {
        "id": "view-in-github",
        "colab_type": "text"
      },
      "source": [
        "<a href=\"https://colab.research.google.com/github/Madhusudhanbandi/EVA4-S12/blob/master/EVA4_S12_K_means.ipynb\" target=\"_parent\"><img src=\"https://colab.research.google.com/assets/colab-badge.svg\" alt=\"Open In Colab\"/></a>"
      ]
    },
    {
      "cell_type": "code",
      "metadata": {
        "id": "qVsCWn2Bb7Yd",
        "colab_type": "code",
        "outputId": "8670dbe4-0ed0-434d-bad4-5d764e4093a0",
        "colab": {
          "base_uri": "https://localhost:8080/",
          "height": 122
        }
      },
      "source": [
        "from google.colab import drive\n",
        "drive.mount('/content/gdrive')\n",
        "import sys\n",
        "sys.path.append('/content/gdrive/My Drive')"
      ],
      "execution_count": 0,
      "outputs": [
        {
          "output_type": "stream",
          "text": [
            "Go to this URL in a browser: https://accounts.google.com/o/oauth2/auth?client_id=947318989803-6bn6qk8qdgf4n4g3pfee6491hc0brc4i.apps.googleusercontent.com&redirect_uri=urn%3aietf%3awg%3aoauth%3a2.0%3aoob&response_type=code&scope=email%20https%3a%2f%2fwww.googleapis.com%2fauth%2fdocs.test%20https%3a%2f%2fwww.googleapis.com%2fauth%2fdrive%20https%3a%2f%2fwww.googleapis.com%2fauth%2fdrive.photos.readonly%20https%3a%2f%2fwww.googleapis.com%2fauth%2fpeopleapi.readonly\n",
            "\n",
            "Enter your authorization code:\n",
            "··········\n",
            "Mounted at /content/gdrive\n"
          ],
          "name": "stdout"
        }
      ]
    },
    {
      "cell_type": "code",
      "metadata": {
        "id": "0BqdP2PvcAgi",
        "colab_type": "code",
        "outputId": "e53650f4-36d9-4488-ad2f-ea4faa5fa088",
        "colab": {
          "base_uri": "https://localhost:8080/",
          "height": 34
        }
      },
      "source": [
        "%cd '/content/gdrive/My Drive/Colab Notebooks/'\n"
      ],
      "execution_count": 0,
      "outputs": [
        {
          "output_type": "stream",
          "text": [
            "/content/gdrive/My Drive/Colab Notebooks\n"
          ],
          "name": "stdout"
        }
      ]
    },
    {
      "cell_type": "code",
      "metadata": {
        "id": "qK5Hcgyywutu",
        "colab_type": "code",
        "colab": {}
      },
      "source": [
        "#Import libraries\n",
        "import numpy as np\n",
        "import pandas as pd\n",
        "import matplotlib.pyplot as plt\n",
        "from sklearn.cluster import KMeans"
      ],
      "execution_count": 0,
      "outputs": []
    },
    {
      "cell_type": "code",
      "metadata": {
        "id": "BpxeOKiDimTt",
        "colab_type": "code",
        "outputId": "ded1a6b5-f0e5-4a5b-bd16-21290b499afa",
        "colab": {
          "base_uri": "https://localhost:8080/",
          "height": 379
        }
      },
      "source": [
        "#import the dataset\n",
        "df = pd.read_csv(\"/content/gdrive/My Drive/Colab Notebooks/data/annotate.csv\")\n",
        "df.head(10)"
      ],
      "execution_count": 0,
      "outputs": [
        {
          "output_type": "execute_result",
          "data": {
            "text/html": [
              "<div>\n",
              "<style scoped>\n",
              "    .dataframe tbody tr th:only-of-type {\n",
              "        vertical-align: middle;\n",
              "    }\n",
              "\n",
              "    .dataframe tbody tr th {\n",
              "        vertical-align: top;\n",
              "    }\n",
              "\n",
              "    .dataframe thead th {\n",
              "        text-align: right;\n",
              "    }\n",
              "</style>\n",
              "<table border=\"1\" class=\"dataframe\">\n",
              "  <thead>\n",
              "    <tr style=\"text-align: right;\">\n",
              "      <th></th>\n",
              "      <th>filename</th>\n",
              "      <th>file_size</th>\n",
              "      <th>file_attributes</th>\n",
              "      <th>region_count</th>\n",
              "      <th>region_id</th>\n",
              "      <th>region_shape_attributes</th>\n",
              "      <th>region_attributes</th>\n",
              "    </tr>\n",
              "  </thead>\n",
              "  <tbody>\n",
              "    <tr>\n",
              "      <th>0</th>\n",
              "      <td>1.jpg</td>\n",
              "      <td>26799</td>\n",
              "      <td>{\"caption\":\"\",\"public_domain\":\"no\",\"image_url\"...</td>\n",
              "      <td>1</td>\n",
              "      <td>0</td>\n",
              "      <td>{\"name\":\"rect\",\"x\":29,\"y\":28,\"width\":284,\"heig...</td>\n",
              "      <td>{\"name\":\"dog1\",\"type\":\"unknown\",\"image_quality...</td>\n",
              "    </tr>\n",
              "    <tr>\n",
              "      <th>1</th>\n",
              "      <td>3.jpg</td>\n",
              "      <td>30730</td>\n",
              "      <td>{\"caption\":\"\",\"public_domain\":\"no\",\"image_url\"...</td>\n",
              "      <td>1</td>\n",
              "      <td>0</td>\n",
              "      <td>{\"name\":\"rect\",\"x\":22,\"y\":0,\"width\":475,\"heigh...</td>\n",
              "      <td>{\"name\":\"dog2\",\"type\":\"unknown\",\"image_quality...</td>\n",
              "    </tr>\n",
              "    <tr>\n",
              "      <th>2</th>\n",
              "      <td>4.jpg</td>\n",
              "      <td>108590</td>\n",
              "      <td>{\"caption\":\"\",\"public_domain\":\"no\",\"image_url\"...</td>\n",
              "      <td>1</td>\n",
              "      <td>0</td>\n",
              "      <td>{\"name\":\"rect\",\"x\":26,\"y\":8,\"width\":255,\"heigh...</td>\n",
              "      <td>{\"name\":\"dog3\",\"type\":\"unknown\",\"image_quality...</td>\n",
              "    </tr>\n",
              "    <tr>\n",
              "      <th>3</th>\n",
              "      <td>5.jpg</td>\n",
              "      <td>40326</td>\n",
              "      <td>{\"caption\":\"\",\"public_domain\":\"no\",\"image_url\"...</td>\n",
              "      <td>1</td>\n",
              "      <td>0</td>\n",
              "      <td>{\"name\":\"rect\",\"x\":123,\"y\":3,\"width\":181,\"heig...</td>\n",
              "      <td>{\"name\":\"dog4\",\"type\":\"unknown\",\"image_quality...</td>\n",
              "    </tr>\n",
              "    <tr>\n",
              "      <th>4</th>\n",
              "      <td>6.jpg</td>\n",
              "      <td>33864</td>\n",
              "      <td>{\"caption\":\"\",\"public_domain\":\"no\",\"image_url\"...</td>\n",
              "      <td>1</td>\n",
              "      <td>0</td>\n",
              "      <td>{\"name\":\"rect\",\"x\":46,\"y\":21,\"width\":447,\"heig...</td>\n",
              "      <td>{\"name\":\"dog5\",\"type\":\"unknown\",\"image_quality...</td>\n",
              "    </tr>\n",
              "    <tr>\n",
              "      <th>5</th>\n",
              "      <td>8.jpg</td>\n",
              "      <td>49345</td>\n",
              "      <td>{\"caption\":\"\",\"public_domain\":\"no\",\"image_url\"...</td>\n",
              "      <td>1</td>\n",
              "      <td>0</td>\n",
              "      <td>{\"name\":\"rect\",\"x\":41,\"y\":2,\"width\":402,\"heigh...</td>\n",
              "      <td>{\"name\":\"dog6\",\"type\":\"unknown\",\"image_quality...</td>\n",
              "    </tr>\n",
              "    <tr>\n",
              "      <th>6</th>\n",
              "      <td>11.jpg</td>\n",
              "      <td>6025</td>\n",
              "      <td>{\"caption\":\"\",\"public_domain\":\"no\",\"image_url\"...</td>\n",
              "      <td>1</td>\n",
              "      <td>0</td>\n",
              "      <td>{\"name\":\"rect\",\"x\":9,\"y\":11,\"width\":121,\"heigh...</td>\n",
              "      <td>{\"name\":\"dog7\",\"type\":\"unknown\",\"image_quality...</td>\n",
              "    </tr>\n",
              "    <tr>\n",
              "      <th>7</th>\n",
              "      <td>12.jpg</td>\n",
              "      <td>8203</td>\n",
              "      <td>{\"caption\":\"\",\"public_domain\":\"no\",\"image_url\"...</td>\n",
              "      <td>1</td>\n",
              "      <td>0</td>\n",
              "      <td>{\"name\":\"rect\",\"x\":4,\"y\":11,\"width\":86,\"height...</td>\n",
              "      <td>{\"name\":\"dog8\",\"type\":\"unknown\",\"image_quality...</td>\n",
              "    </tr>\n",
              "    <tr>\n",
              "      <th>8</th>\n",
              "      <td>13.jpg</td>\n",
              "      <td>109459</td>\n",
              "      <td>{\"caption\":\"\",\"public_domain\":\"no\",\"image_url\"...</td>\n",
              "      <td>1</td>\n",
              "      <td>0</td>\n",
              "      <td>{\"name\":\"rect\",\"x\":54,\"y\":27,\"width\":304,\"heig...</td>\n",
              "      <td>{\"name\":\"dog9\",\"type\":\"unknown\",\"image_quality...</td>\n",
              "    </tr>\n",
              "    <tr>\n",
              "      <th>9</th>\n",
              "      <td>14.jpg</td>\n",
              "      <td>38665</td>\n",
              "      <td>{\"caption\":\"\",\"public_domain\":\"no\",\"image_url\"...</td>\n",
              "      <td>1</td>\n",
              "      <td>0</td>\n",
              "      <td>{\"name\":\"rect\",\"x\":55,\"y\":51,\"width\":421,\"heig...</td>\n",
              "      <td>{\"name\":\"dog10\",\"type\":\"unknown\",\"image_qualit...</td>\n",
              "    </tr>\n",
              "  </tbody>\n",
              "</table>\n",
              "</div>"
            ],
            "text/plain": [
              "  filename  ...                                  region_attributes\n",
              "0    1.jpg  ...  {\"name\":\"dog1\",\"type\":\"unknown\",\"image_quality...\n",
              "1    3.jpg  ...  {\"name\":\"dog2\",\"type\":\"unknown\",\"image_quality...\n",
              "2    4.jpg  ...  {\"name\":\"dog3\",\"type\":\"unknown\",\"image_quality...\n",
              "3    5.jpg  ...  {\"name\":\"dog4\",\"type\":\"unknown\",\"image_quality...\n",
              "4    6.jpg  ...  {\"name\":\"dog5\",\"type\":\"unknown\",\"image_quality...\n",
              "5    8.jpg  ...  {\"name\":\"dog6\",\"type\":\"unknown\",\"image_quality...\n",
              "6   11.jpg  ...  {\"name\":\"dog7\",\"type\":\"unknown\",\"image_quality...\n",
              "7   12.jpg  ...  {\"name\":\"dog8\",\"type\":\"unknown\",\"image_quality...\n",
              "8   13.jpg  ...  {\"name\":\"dog9\",\"type\":\"unknown\",\"image_quality...\n",
              "9   14.jpg  ...  {\"name\":\"dog10\",\"type\":\"unknown\",\"image_qualit...\n",
              "\n",
              "[10 rows x 7 columns]"
            ]
          },
          "metadata": {
            "tags": []
          },
          "execution_count": 6
        }
      ]
    },
    {
      "cell_type": "code",
      "metadata": {
        "id": "McUghWMQj7-g",
        "colab_type": "code",
        "colab": {}
      },
      "source": [
        "def width(row):\n",
        "    wh=row['region_shape_attributes']\n",
        "    ro = wh.split('width\":')[-1]\n",
        "    r=ro.split(',')[0]\n",
        "    return r\n",
        "\n",
        "\n",
        "def height(row):\n",
        "    wh=row['region_shape_attributes']\n",
        "    rho = wh.split('height\":')[-1]\n",
        "    rh=rho.split('}')[0]\n",
        "    return rh\n",
        "\n",
        "\n",
        "df[\"width\"]=df.apply(width,axis=1)\n",
        "df[\"height\"]=df.apply(height,axis=1)\n",
        "\n",
        "df1=df[[\"filename\",\"width\",\"height\"]]\n"
      ],
      "execution_count": 0,
      "outputs": []
    },
    {
      "cell_type": "code",
      "metadata": {
        "id": "YeSAsyMOoRUP",
        "colab_type": "code",
        "outputId": "68174651-4073-44bd-873d-7348881b2f86",
        "colab": {
          "base_uri": "https://localhost:8080/",
          "height": 204
        }
      },
      "source": [
        "df1.head()"
      ],
      "execution_count": 0,
      "outputs": [
        {
          "output_type": "execute_result",
          "data": {
            "text/html": [
              "<div>\n",
              "<style scoped>\n",
              "    .dataframe tbody tr th:only-of-type {\n",
              "        vertical-align: middle;\n",
              "    }\n",
              "\n",
              "    .dataframe tbody tr th {\n",
              "        vertical-align: top;\n",
              "    }\n",
              "\n",
              "    .dataframe thead th {\n",
              "        text-align: right;\n",
              "    }\n",
              "</style>\n",
              "<table border=\"1\" class=\"dataframe\">\n",
              "  <thead>\n",
              "    <tr style=\"text-align: right;\">\n",
              "      <th></th>\n",
              "      <th>filename</th>\n",
              "      <th>width</th>\n",
              "      <th>height</th>\n",
              "    </tr>\n",
              "  </thead>\n",
              "  <tbody>\n",
              "    <tr>\n",
              "      <th>0</th>\n",
              "      <td>1.jpg</td>\n",
              "      <td>284</td>\n",
              "      <td>447</td>\n",
              "    </tr>\n",
              "    <tr>\n",
              "      <th>1</th>\n",
              "      <td>3.jpg</td>\n",
              "      <td>475</td>\n",
              "      <td>372</td>\n",
              "    </tr>\n",
              "    <tr>\n",
              "      <th>2</th>\n",
              "      <td>4.jpg</td>\n",
              "      <td>255</td>\n",
              "      <td>268</td>\n",
              "    </tr>\n",
              "    <tr>\n",
              "      <th>3</th>\n",
              "      <td>5.jpg</td>\n",
              "      <td>181</td>\n",
              "      <td>317</td>\n",
              "    </tr>\n",
              "    <tr>\n",
              "      <th>4</th>\n",
              "      <td>6.jpg</td>\n",
              "      <td>447</td>\n",
              "      <td>461</td>\n",
              "    </tr>\n",
              "  </tbody>\n",
              "</table>\n",
              "</div>"
            ],
            "text/plain": [
              "  filename width height\n",
              "0    1.jpg   284    447\n",
              "1    3.jpg   475    372\n",
              "2    4.jpg   255    268\n",
              "3    5.jpg   181    317\n",
              "4    6.jpg   447    461"
            ]
          },
          "metadata": {
            "tags": []
          },
          "execution_count": 21
        }
      ]
    },
    {
      "cell_type": "code",
      "metadata": {
        "id": "YhlIbjimqar3",
        "colab_type": "code",
        "colab": {}
      },
      "source": [
        "x = df1.iloc[:, [1,2]].values"
      ],
      "execution_count": 0,
      "outputs": []
    },
    {
      "cell_type": "code",
      "metadata": {
        "id": "ZqVNl1Xgq7M_",
        "colab_type": "code",
        "outputId": "f7bba508-9547-4c2e-d71a-9d02314401d3",
        "colab": {
          "base_uri": "https://localhost:8080/",
          "height": 295
        }
      },
      "source": [
        "Error =[]\n",
        "for i in range(1, 11):\n",
        "    kmeans = KMeans(n_clusters = i).fit(x)\n",
        "    kmeans.fit(x)\n",
        "    Error.append(kmeans.inertia_)\n",
        "import matplotlib.pyplot as plt\n",
        "plt.plot(range(1, 11), Error)\n",
        "plt.title('Elbow method')\n",
        "plt.xlabel('No of clusters')\n",
        "plt.ylabel('Error')\n",
        "plt.show()"
      ],
      "execution_count": 0,
      "outputs": [
        {
          "output_type": "display_data",
          "data": {
            "image/png": "[encoded data removed]",
            "text/plain": [
              "<Figure size 432x288 with 1 Axes>"
            ]
          },
          "metadata": {
            "tags": [],
            "needs_background": "light"
          }
        }
      ]
    },
    {
      "cell_type": "code",
      "metadata": {
        "id": "JmiFLvKAqlqy",
        "colab_type": "code",
        "outputId": "af9ebd43-2f2d-468e-c880-6d7c093e362d",
        "colab": {
          "base_uri": "https://localhost:8080/",
          "height": 136
        }
      },
      "source": [
        "kmeans5 = KMeans(n_clusters=5)\n",
        "y_kmeans5 = kmeans5.fit_predict(x)\n",
        "print(y_kmeans5)\n",
        "\n",
        "kmeans5.cluster_centers_\n"
      ],
      "execution_count": 0,
      "outputs": [
        {
          "output_type": "stream",
          "text": [
            "[0 3 4 4 2 2 1 1 0 3 3 2 1 4 3 0 4 2 0 3 1 2 3 0 0 3 3 0 3 3 4 4 0 4 1 3 0\n",
            " 1 3 2 3 1 2 0 0 0 4 4 3 4]\n"
          ],
          "name": "stdout"
        },
        {
          "output_type": "execute_result",
          "data": {
            "text/plain": [
              "array([[273.5       , 434.5       ],\n",
              "       [131.85714286, 162.85714286],\n",
              "       [383.        , 438.        ],\n",
              "       [433.07142857, 327.64285714],\n",
              "       [247.        , 265.4       ]])"
            ]
          },
          "metadata": {
            "tags": []
          },
          "execution_count": 23
        }
      ]
    },
    {
      "cell_type": "code",
      "metadata": {
        "id": "eE0Aprtkru-f",
        "colab_type": "code",
        "outputId": "bebfa97d-b766-4613-940a-980d43165dba",
        "colab": {
          "base_uri": "https://localhost:8080/",
          "height": 282
        }
      },
      "source": [
        "plt.scatter(df1[\"height\"],df1[\"width\"],color='red')"
      ],
      "execution_count": 0,
      "outputs": [
        {
          "output_type": "execute_result",
          "data": {
            "text/plain": [
              "<matplotlib.collections.PathCollection at 0x7f0c60fba9b0>"
            ]
          },
          "metadata": {
            "tags": []
          },
          "execution_count": 34
        },
        {
          "output_type": "display_data",
          "data": {
            "image/png": "[encoded data removed]",
            "text/plain": [
              "<Figure size 432x288 with 1 Axes>"
            ]
          },
          "metadata": {
            "tags": [],
            "needs_background": "light"
          }
        }
      ]
    }
  ]
}