{
  "nbformat": 4,
  "nbformat_minor": 0,
  "metadata": {
    "kernelspec": {
      "name": "python3",
      "display_name": "Python 3"
    },
    "language_info": {
      "codemirror_mode": {
        "name": "ipython",
        "version": 3
      },
      "file_extension": ".py",
      "mimetype": "text/x-python",
      "name": "python",
      "nbconvert_exporter": "python",
      "pygments_lexer": "ipython3",
      "version": "3.6.6"
    },
    "colab": {
      "name": "EVA_S12_ASSIG.ipynb",
      "provenance": [],
      "collapsed_sections": [],
      "include_colab_link": true
    },
    "accelerator": "GPU"
  },
  "cells": [
    {
      "cell_type": "markdown",
      "metadata": {
        "id": "view-in-github",
        "colab_type": "text"
      },
      "source": [
        "<a href=\"https://colab.research.google.com/github/Madhusudhanbandi/EVA4-S12/blob/master/EVA_S12_ASSIG.ipynb\" target=\"_parent\"><img src=\"https://colab.research.google.com/assets/colab-badge.svg\" alt=\"Open In Colab\"/></a>"
      ]
    },
    {
      "cell_type": "code",
      "metadata": {
        "id": "qnNlF2wX8-np",
        "colab_type": "code",
        "outputId": "5f82f5c0-d197-4308-b831-ee29a4b0c72a",
        "colab": {
          "base_uri": "https://localhost:8080/",
          "height": 34
        }
      },
      "source": [
        "from google.colab import drive\n",
        "drive.mount('/content/gdrive')\n",
        "import sys\n",
        "sys.path.append('/content/gdrive/My Drive')"
      ],
      "execution_count": 2,
      "outputs": [
        {
          "output_type": "stream",
          "text": [
            "Drive already mounted at /content/gdrive; to attempt to forcibly remount, call drive.mount(\"/content/gdrive\", force_remount=True).\n"
          ],
          "name": "stdout"
        }
      ]
    },
    {
      "cell_type": "code",
      "metadata": {
        "id": "E0EFQvwX9CTp",
        "colab_type": "code",
        "outputId": "4866770d-1343-4565-e71b-d3d4f8650a79",
        "colab": {
          "base_uri": "https://localhost:8080/",
          "height": 34
        }
      },
      "source": [
        "%cd '/content/gdrive/My Drive/Colab Notebooks'\n"
      ],
      "execution_count": 3,
      "outputs": [
        {
          "output_type": "stream",
          "text": [
            "/content/gdrive/My Drive/Colab Notebooks\n"
          ],
          "name": "stdout"
        }
      ]
    },
    {
      "cell_type": "code",
      "metadata": {
        "id": "-yVpodAMpoCi",
        "colab_type": "code",
        "outputId": "7f8aea0d-a4eb-4703-b7fb-cbb2a80e648f",
        "colab": {
          "base_uri": "https://localhost:8080/",
          "height": 102
        }
      },
      "source": [
        "!pip install torchvision\n",
        "from __future__ import print_function\n",
        "import torch\n",
        "import torch.nn as nn\n",
        "import torch.nn.functional as F\n",
        "import torch.optim as optim\n",
        "from torchvision import datasets,transforms\n",
        "import torchvision.transforms as transforms\n",
        "import torchvision\n",
        "from torchsummary import summary\n",
        "from myfunctions import *\n",
        "from models import *\n",
        "from Grad_Cam import get_last_conv,Grad_Cam\n",
        "from transforms_dataloading import *\n",
        "from tqdm import tqdm\n",
        "from model_s12 import *\n",
        "from tinyimagenet import *\n",
        "from utils import *\n",
        "import cv2\n",
        "\n",
        "import numpy as np\n",
        "\n"
      ],
      "execution_count": 4,
      "outputs": [
        {
          "output_type": "stream",
          "text": [
            "Requirement already satisfied: torchvision in /usr/local/lib/python3.6/dist-packages (0.5.0)\n",
            "Requirement already satisfied: numpy in /usr/local/lib/python3.6/dist-packages (from torchvision) (1.18.2)\n",
            "Requirement already satisfied: torch==1.4.0 in /usr/local/lib/python3.6/dist-packages (from torchvision) (1.4.0)\n",
            "Requirement already satisfied: six in /usr/local/lib/python3.6/dist-packages (from torchvision) (1.12.0)\n",
            "Requirement already satisfied: pillow>=4.1.1 in /usr/local/lib/python3.6/dist-packages (from torchvision) (7.0.0)\n"
          ],
          "name": "stdout"
        }
      ]
    },
    {
      "cell_type": "code",
      "metadata": {
        "id": "2Cv91pOIiQnq",
        "colab_type": "code",
        "colab": {}
      },
      "source": [
        ""
      ],
      "execution_count": 0,
      "outputs": []
    },
    {
      "cell_type": "code",
      "metadata": {
        "id": "sDmjGbOs8vdt",
        "colab_type": "code",
        "outputId": "d373df6d-0b63-4de4-ce01-5ce4d908f35e",
        "colab": {
          "base_uri": "https://localhost:8080/",
          "height": 34
        }
      },
      "source": [
        "import os\n",
        "import zipfile\n",
        "import requests\n",
        "from io import StringIO,BytesIO\n",
        "\n",
        "def download_images(url):\n",
        "  if (os.path.isdir('tiny-imagenet-200.zip')):\n",
        "    print('Images already downloaded')\n",
        "    return \n",
        "  r = requests.get(url,stream=True)\n",
        "  print(\"Downloading...\" + url)\n",
        "  zip_ref =zipfile.ZipFile(BytesIO(r.content))\n",
        "  zip_ref.extractall('./')\n",
        "  zip_ref.close()\n",
        "\n",
        "download_images(\"http://cs231n.stanford.edu/tiny-imagenet-200.zip\")\n"
      ],
      "execution_count": 0,
      "outputs": [
        {
          "output_type": "stream",
          "text": [
            "Downloading...http://cs231n.stanford.edu/tiny-imagenet-200.zip\n"
          ],
          "name": "stdout"
        }
      ]
    },
    {
      "cell_type": "code",
      "metadata": {
        "id": "iEOAbr6e39vU",
        "colab_type": "code",
        "colab": {}
      },
      "source": [
        "segregate()"
      ],
      "execution_count": 0,
      "outputs": []
    },
    {
      "cell_type": "markdown",
      "metadata": {
        "id": "fUeRUA14FQZH",
        "colab_type": "text"
      },
      "source": [
        "**Downloading datasets and applying transforms**"
      ]
    },
    {
      "cell_type": "code",
      "metadata": {
        "id": "0GsuHK8NjR9V",
        "colab_type": "code",
        "colab": {}
      },
      "source": [
        "transform = transforms.Compose(\n",
        "[transforms.ToTensor(),\n",
        " transforms.Normalize((0.485, 0.456, 0.406), (0.229, 0.224, 0.225))])\n",
        "\n",
        "train_dataset= datasets.ImageFolder(root=\"/content/gdrive/My Drive/Colab Notebooks/MergeData/Train\",transform=transform)\n",
        "\n",
        "test_dataset= datasets.ImageFolder(root=\"/content/gdrive/My Drive/Colab Notebooks/MergeData/Val\",transform=transform)"
      ],
      "execution_count": 0,
      "outputs": []
    },
    {
      "cell_type": "code",
      "metadata": {
        "id": "eUb2Izv7atBG",
        "colab_type": "code",
        "outputId": "6a38efe8-1596-4b3b-f457-1c46fd63d4b6",
        "colab": {
          "base_uri": "https://localhost:8080/",
          "height": 153
        }
      },
      "source": [
        "train_dataset"
      ],
      "execution_count": 13,
      "outputs": [
        {
          "output_type": "execute_result",
          "data": {
            "text/plain": [
              "Dataset ImageFolder\n",
              "    Number of datapoints: 77000\n",
              "    Root location: /content/gdrive/My Drive/Colab Notebooks/MergeData/Train\n",
              "    StandardTransform\n",
              "Transform: Compose(\n",
              "               ToTensor()\n",
              "               Normalize(mean=(0.485, 0.456, 0.406), std=(0.229, 0.224, 0.225))\n",
              "           )"
            ]
          },
          "metadata": {
            "tags": []
          },
          "execution_count": 13
        }
      ]
    },
    {
      "cell_type": "code",
      "metadata": {
        "id": "qiv44a4nvYKN",
        "colab_type": "code",
        "outputId": "41eae997-aa8e-4e62-f9a1-721d2fd00a00",
        "colab": {
          "base_uri": "https://localhost:8080/",
          "height": 153
        }
      },
      "source": [
        "test_dataset"
      ],
      "execution_count": 14,
      "outputs": [
        {
          "output_type": "execute_result",
          "data": {
            "text/plain": [
              "Dataset ImageFolder\n",
              "    Number of datapoints: 33000\n",
              "    Root location: /content/gdrive/My Drive/Colab Notebooks/MergeData/Val\n",
              "    StandardTransform\n",
              "Transform: Compose(\n",
              "               ToTensor()\n",
              "               Normalize(mean=(0.485, 0.456, 0.406), std=(0.229, 0.224, 0.225))\n",
              "           )"
            ]
          },
          "metadata": {
            "tags": []
          },
          "execution_count": 14
        }
      ]
    },
    {
      "cell_type": "markdown",
      "metadata": {
        "id": "-G0S-xaK-jgB",
        "colab_type": "text"
      },
      "source": [
        "**Loading data to train and test loader**"
      ]
    },
    {
      "cell_type": "code",
      "metadata": {
        "id": "zxaQyIUGc24w",
        "colab_type": "code",
        "outputId": "2a5bb759-ab79-4899-8b93-fc77bc73ca2c",
        "colab": {
          "base_uri": "https://localhost:8080/",
          "height": 34
        }
      },
      "source": [
        "cuda = torch.cuda.is_available()\n",
        "print(\"CUDA Available?\", cuda)\n",
        "# For reproducibility\n",
        "torch.manual_seed(111)\n",
        "\n",
        "if cuda:\n",
        "    torch.cuda.manual_seed(111)\n",
        "\n",
        "    trainloader = torch.utils.data.DataLoader(train_dataset, batch_size=128, shuffle=True,num_workers=4)\n",
        "    testloader = torch.utils.data.DataLoader(test_dataset, batch_size=128, shuffle=True, num_workers=4)"
      ],
      "execution_count": 15,
      "outputs": [
        {
          "output_type": "stream",
          "text": [
            "CUDA Available? True\n"
          ],
          "name": "stdout"
        }
      ]
    },
    {
      "cell_type": "code",
      "metadata": {
        "id": "1cz5Q5XVSpSI",
        "colab_type": "code",
        "outputId": "668fe9eb-03fe-42d5-8746-1976abf93871",
        "colab": {
          "base_uri": "https://localhost:8080/",
          "height": 34
        }
      },
      "source": [
        "len(trainloader)"
      ],
      "execution_count": 14,
      "outputs": [
        {
          "output_type": "execute_result",
          "data": {
            "text/plain": [
              "602"
            ]
          },
          "metadata": {
            "tags": []
          },
          "execution_count": 14
        }
      ]
    },
    {
      "cell_type": "markdown",
      "metadata": {
        "id": "c5LHGZaUy_Dt",
        "colab_type": "text"
      },
      "source": [
        "**Visualizing**"
      ]
    },
    {
      "cell_type": "code",
      "metadata": {
        "id": "OYFT7jcNixvM",
        "colab_type": "code",
        "outputId": "b2ac9d4e-4ce5-4f4b-817c-ae5e457739f3",
        "colab": {
          "base_uri": "https://localhost:8080/",
          "height": 488
        }
      },
      "source": [
        "import matplotlib.pyplot as plt\n",
        "dataiter = iter(trainloader)\n",
        "images,lables = next(dataiter)\n",
        "\n",
        "for i in range(12):\n",
        "  plt.subplot(3,4,i+1)\n",
        "  plt.tight_layout()\n",
        "  plt.imshow(((images[i]).permute(1,2,0).numpy().squeeze()), interpolation='none')\n",
        "  plt.title('A: {}\\n'.format(lables[i]))\n",
        "\n",
        "  plt.xticks([])\n",
        "  plt.yticks([])"
      ],
      "execution_count": 16,
      "outputs": [
        {
          "output_type": "stream",
          "text": [
            "Clipping input data to the valid range for imshow with RGB data ([0..1] for floats or [0..255] for integers).\n",
            "Clipping input data to the valid range for imshow with RGB data ([0..1] for floats or [0..255] for integers).\n",
            "Clipping input data to the valid range for imshow with RGB data ([0..1] for floats or [0..255] for integers).\n",
            "Clipping input data to the valid range for imshow with RGB data ([0..1] for floats or [0..255] for integers).\n",
            "Clipping input data to the valid range for imshow with RGB data ([0..1] for floats or [0..255] for integers).\n",
            "Clipping input data to the valid range for imshow with RGB data ([0..1] for floats or [0..255] for integers).\n",
            "Clipping input data to the valid range for imshow with RGB data ([0..1] for floats or [0..255] for integers).\n",
            "Clipping input data to the valid range for imshow with RGB data ([0..1] for floats or [0..255] for integers).\n",
            "Clipping input data to the valid range for imshow with RGB data ([0..1] for floats or [0..255] for integers).\n",
            "Clipping input data to the valid range for imshow with RGB data ([0..1] for floats or [0..255] for integers).\n",
            "Clipping input data to the valid range for imshow with RGB data ([0..1] for floats or [0..255] for integers).\n",
            "Clipping input data to the valid range for imshow with RGB data ([0..1] for floats or [0..255] for integers).\n"
          ],
          "name": "stderr"
        },
        {
          "output_type": "display_data",
          "data": {
            "image/png": "[encoded data removed]",
            "text/plain": [
              "<Figure size 432x288 with 12 Axes>"
            ]
          },
          "metadata": {
            "tags": []
          }
        }
      ]
    },
    {
      "cell_type": "markdown",
      "metadata": {
        "id": "D91rZDSq-sXC",
        "colab_type": "text"
      },
      "source": [
        "**Building model network**"
      ]
    },
    {
      "cell_type": "code",
      "metadata": {
        "id": "h9bSclQ_OS05",
        "colab_type": "code",
        "outputId": "3ec8b0fd-afab-4ba2-c3d1-9f5567c6e96b",
        "colab": {
          "base_uri": "https://localhost:8080/",
          "height": 34
        }
      },
      "source": [
        "Net=own_resnet_model()"
      ],
      "execution_count": 7,
      "outputs": [
        {
          "output_type": "stream",
          "text": [
            "Model was build as per given architucture....\n"
          ],
          "name": "stdout"
        }
      ]
    },
    {
      "cell_type": "markdown",
      "metadata": {
        "id": "AHe6tv8x-0iD",
        "colab_type": "text"
      },
      "source": [
        "**Adding model to device**"
      ]
    },
    {
      "cell_type": "code",
      "metadata": {
        "id": "IVZyS9ODHENM",
        "colab_type": "code",
        "outputId": "522212d0-d45a-4c1e-c0dd-d5d91073a272",
        "colab": {
          "base_uri": "https://localhost:8080/",
          "height": 765
        }
      },
      "source": [
        "from torchsummary import summary\n",
        "use_cuda = torch.cuda.is_available()\n",
        "device = torch.device(\"cuda\" if use_cuda else \"cpu\")\n",
        "print(device)\n",
        "model = Net().to(device)\n",
        "summary(model,input_size=(3,64,64))\n",
        "print(\"Model added to device\")"
      ],
      "execution_count": 8,
      "outputs": [
        {
          "output_type": "stream",
          "text": [
            "cuda\n",
            "----------------------------------------------------------------\n",
            "        Layer (type)               Output Shape         Param #\n",
            "================================================================\n",
            "            Conv2d-1           [-1, 64, 64, 64]           1,728\n",
            "       BatchNorm2d-2           [-1, 64, 64, 64]             128\n",
            "              ReLU-3           [-1, 64, 64, 64]               0\n",
            "            Conv2d-4          [-1, 128, 64, 64]          73,728\n",
            "         MaxPool2d-5          [-1, 128, 32, 32]               0\n",
            "       BatchNorm2d-6          [-1, 128, 32, 32]             256\n",
            "              ReLU-7          [-1, 128, 32, 32]               0\n",
            "            Conv2d-8          [-1, 128, 32, 32]         147,456\n",
            "       BatchNorm2d-9          [-1, 128, 32, 32]             256\n",
            "             ReLU-10          [-1, 128, 32, 32]               0\n",
            "           Conv2d-11          [-1, 128, 32, 32]         147,456\n",
            "      BatchNorm2d-12          [-1, 128, 32, 32]             256\n",
            "             ReLU-13          [-1, 128, 32, 32]               0\n",
            "           Conv2d-14          [-1, 256, 32, 32]         589,824\n",
            "        MaxPool2d-15          [-1, 256, 16, 16]               0\n",
            "      BatchNorm2d-16          [-1, 256, 16, 16]             512\n",
            "             ReLU-17          [-1, 256, 16, 16]               0\n",
            "           Conv2d-18          [-1, 512, 16, 16]       1,179,648\n",
            "        MaxPool2d-19            [-1, 512, 8, 8]               0\n",
            "      BatchNorm2d-20            [-1, 512, 8, 8]           1,024\n",
            "             ReLU-21            [-1, 512, 8, 8]               0\n",
            "           Conv2d-22            [-1, 512, 8, 8]       2,359,296\n",
            "      BatchNorm2d-23            [-1, 512, 8, 8]           1,024\n",
            "             ReLU-24            [-1, 512, 8, 8]               0\n",
            "           Conv2d-25            [-1, 512, 8, 8]       2,359,296\n",
            "      BatchNorm2d-26            [-1, 512, 8, 8]           1,024\n",
            "             ReLU-27            [-1, 512, 8, 8]               0\n",
            "        MaxPool2d-28           [-1, 1024, 1, 1]               0\n",
            "           Linear-29                  [-1, 200]         205,000\n",
            "================================================================\n",
            "Total params: 7,067,912\n",
            "Trainable params: 7,067,912\n",
            "Non-trainable params: 0\n",
            "----------------------------------------------------------------\n",
            "Input size (MB): 0.05\n",
            "Forward/backward pass size (MB): 25.76\n",
            "Params size (MB): 26.96\n",
            "Estimated Total Size (MB): 52.77\n",
            "----------------------------------------------------------------\n",
            "Model added to device\n"
          ],
          "name": "stdout"
        }
      ]
    },
    {
      "cell_type": "markdown",
      "metadata": {
        "id": "DYvX-Enq_LLj",
        "colab_type": "text"
      },
      "source": [
        "**Traing network with SGD and OneCycleLR schedular**"
      ]
    },
    {
      "cell_type": "code",
      "metadata": {
        "id": "qbiOYNznwC0-",
        "colab_type": "code",
        "outputId": "24906b66-7959-4435-dc04-853a589072c4",
        "colab": {
          "base_uri": "https://localhost:8080/",
          "height": 1000
        }
      },
      "source": [
        "import torch.optim as optim\n",
        "from torch.optim.lr_scheduler import OneCycleLR\n",
        "\n",
        "\n",
        "train_los=[]\n",
        "train_acs=[]\n",
        "test_los=[]\n",
        "test_acs=[]\n",
        "lr_data=[]\n",
        "\n",
        "L2lambda=0\n",
        "ep=len(trainloader)\n",
        "criterion = nn.CrossEntropyLoss()\n",
        "optimizer = optim.SGD(model.parameters(), lr=0.01, momentum=0.9,nesterov=True, weight_decay=L2lambda)\n",
        "scheduler = optim.lr_scheduler.OneCycleLR(optimizer, max_lr=0.1, epochs=50,steps_per_epoch=ep,pct_start=0.2)\n",
        "  \n",
        "\n",
        "EPOCHS = 50\n",
        "for epoch in range(EPOCHS):\n",
        "    print(\"EPOCH:\", epoch+1)\n",
        "    \n",
        "    train_losses,train_acces=training_model_with_scheduler(model, device, trainloader, optimizer,scheduler,criterion)\n",
        "    train_acs.append(train_acces)\n",
        "    test_losses, test_acces=testing_model(model, device, testloader)\n",
        "    test_acs.append(test_acces)"
      ],
      "execution_count": 0,
      "outputs": [
        {
          "output_type": "stream",
          "text": [
            "\r  0%|          | 0/602 [00:00<?, ?it/s]"
          ],
          "name": "stderr"
        },
        {
          "output_type": "stream",
          "text": [
            "EPOCH: 1\n",
            "LR used in this epoch is: 0.006342324519632014\n",
            "\n",
            "Train set: Average loss: 36.5231, Train Accuracy: (10.99%)\n",
            "\n"
          ],
          "name": "stdout"
        },
        {
          "output_type": "stream",
          "text": [
            "\n",
            "  0%|          | 0/602 [00:00<?, ?it/s]\u001b[A"
          ],
          "name": "stderr"
        },
        {
          "output_type": "stream",
          "text": [
            "\n",
            "Test set: Average Loss: 9.5518, Test Accuracy: 5714/33000 (17.32%)\n",
            "\n",
            "EPOCH: 2\n",
            "LR used in this epoch is: 0.013155406837874181\n",
            "\n",
            "Train set: Average loss: 28.5341, Train Accuracy: (24.49%)\n",
            "\n"
          ],
          "name": "stdout"
        },
        {
          "output_type": "stream",
          "text": [
            "\n",
            "\n",
            "  0%|          | 0/602 [00:00<?, ?it/s]\u001b[A\u001b[A"
          ],
          "name": "stderr"
        },
        {
          "output_type": "stream",
          "text": [
            "\n",
            "Test set: Average Loss: 8.3434, Test Accuracy: 8503/33000 (25.77%)\n",
            "\n",
            "EPOCH: 3\n",
            "LR used in this epoch is: 0.023772121731852627\n",
            "\n",
            "Train set: Average loss: 24.8582, Train Accuracy: (32.05%)\n",
            "\n"
          ],
          "name": "stdout"
        },
        {
          "output_type": "stream",
          "text": [
            "\n",
            "\n",
            "\n",
            "  0%|          | 0/602 [00:00<?, ?it/s]\u001b[A\u001b[A\u001b[A"
          ],
          "name": "stderr"
        },
        {
          "output_type": "stream",
          "text": [
            "\n",
            "Test set: Average Loss: 7.8103, Test Accuracy: 9574/33000 (29.01%)\n",
            "\n",
            "EPOCH: 4\n",
            "LR used in this epoch is: 0.037152888674890236\n",
            "\n",
            "Train set: Average loss: 21.6843, Train Accuracy: (39.10%)\n",
            "\n"
          ],
          "name": "stdout"
        },
        {
          "output_type": "stream",
          "text": [
            "\n",
            "\n",
            "\n",
            "\n",
            "  0%|          | 0/602 [00:00<?, ?it/s]\u001b[A\u001b[A\u001b[A\u001b[A"
          ],
          "name": "stderr"
        },
        {
          "output_type": "stream",
          "text": [
            "\n",
            "Test set: Average Loss: 7.0099, Test Accuracy: 11673/33000 (35.37%)\n",
            "\n",
            "EPOCH: 5\n",
            "LR used in this epoch is: 0.05198747329741978\n",
            "\n",
            "Train set: Average loss: 18.6419, Train Accuracy: (45.97%)\n",
            "\n"
          ],
          "name": "stdout"
        },
        {
          "output_type": "stream",
          "text": [
            "\n",
            "\n",
            "\n",
            "\n",
            "\n",
            "  0%|          | 0/602 [00:00<?, ?it/s]\u001b[A\u001b[A\u001b[A\u001b[A\u001b[A"
          ],
          "name": "stderr"
        },
        {
          "output_type": "stream",
          "text": [
            "\n",
            "Test set: Average Loss: 6.6287, Test Accuracy: 12660/33000 (38.36%)\n",
            "\n",
            "EPOCH: 6\n",
            "LR used in this epoch is: 0.06682328452499581\n",
            "\n",
            "Train set: Average loss: 15.9727, Train Accuracy: (52.66%)\n",
            "\n"
          ],
          "name": "stdout"
        },
        {
          "output_type": "stream",
          "text": [
            "\n",
            "\n",
            "\n",
            "\n",
            "\n",
            "\n",
            "  0%|          | 0/602 [00:00<?, ?it/s]\u001b[A\u001b[A\u001b[A\u001b[A\u001b[A\u001b[A"
          ],
          "name": "stderr"
        },
        {
          "output_type": "stream",
          "text": [
            "\n",
            "Test set: Average Loss: 6.1872, Test Accuracy: 13802/33000 (41.82%)\n",
            "\n",
            "EPOCH: 7\n",
            "LR used in this epoch is: 0.08020761117495358\n",
            "\n",
            "Train set: Average loss: 13.4609, Train Accuracy: (59.10%)\n",
            "\n"
          ],
          "name": "stdout"
        },
        {
          "output_type": "stream",
          "text": [
            "\n",
            "\n",
            "\n",
            "\n",
            "\n",
            "\n",
            "\n",
            "  0%|          | 0/602 [00:00<?, ?it/s]\u001b[A\u001b[A\u001b[A\u001b[A\u001b[A\u001b[A\u001b[A"
          ],
          "name": "stderr"
        },
        {
          "output_type": "stream",
          "text": [
            "\n",
            "Test set: Average Loss: 6.4293, Test Accuracy: 13950/33000 (42.27%)\n",
            "\n",
            "EPOCH: 8\n",
            "LR used in this epoch is: 0.09082987031397219\n",
            "\n",
            "Train set: Average loss: 10.8937, Train Accuracy: (65.78%)\n",
            "\n"
          ],
          "name": "stdout"
        },
        {
          "output_type": "stream",
          "text": [
            "\r  0%|          | 0/602 [00:00<?, ?it/s]\u001b[A\u001b[A\u001b[A\u001b[A\u001b[A\u001b[A\u001b[A\u001b[A"
          ],
          "name": "stderr"
        },
        {
          "output_type": "stream",
          "text": [
            "\n",
            "Test set: Average Loss: 6.3565, Test Accuracy: 14421/33000 (43.70%)\n",
            "\n",
            "EPOCH: 9\n",
            "LR used in this epoch is: 0.09764993852718022\n",
            "\n",
            "Train set: Average loss: 8.1614, Train Accuracy: (73.46%)\n",
            "\n"
          ],
          "name": "stdout"
        },
        {
          "output_type": "stream",
          "text": [
            "\n",
            "\n",
            "\n",
            "\n",
            "\n",
            "\n",
            "\n",
            "\n",
            "\n",
            "  0%|          | 0/602 [00:00<?, ?it/s]\u001b[A\u001b[A\u001b[A\u001b[A\u001b[A\u001b[A\u001b[A\u001b[A\u001b[A"
          ],
          "name": "stderr"
        },
        {
          "output_type": "stream",
          "text": [
            "\n",
            "Test set: Average Loss: 6.5975, Test Accuracy: 14561/33000 (44.12%)\n",
            "\n",
            "EPOCH: 10\n",
            "LR used in this epoch is: 0.1\n",
            "\n",
            "Train set: Average loss: 5.4636, Train Accuracy: (81.32%)\n",
            "\n"
          ],
          "name": "stdout"
        },
        {
          "output_type": "stream",
          "text": [
            "\n",
            "\n",
            "\n",
            "\n",
            "\n",
            "\n",
            "\n",
            "\n",
            "\n",
            "\n",
            "  0%|          | 0/602 [00:00<?, ?it/s]\u001b[A\u001b[A\u001b[A\u001b[A\u001b[A\u001b[A\u001b[A\u001b[A\u001b[A\u001b[A"
          ],
          "name": "stderr"
        },
        {
          "output_type": "stream",
          "text": [
            "\n",
            "Test set: Average Loss: 7.6469, Test Accuracy: 13718/33000 (41.57%)\n",
            "\n",
            "EPOCH: 11\n",
            "LR used in this epoch is: 0.09984586730318966\n",
            "\n",
            "Train set: Average loss: 3.3025, Train Accuracy: (88.32%)\n",
            "\n"
          ],
          "name": "stdout"
        },
        {
          "output_type": "stream",
          "text": [
            "\n",
            "\n",
            "\n",
            "\n",
            "\n",
            "\n",
            "\n",
            "\n",
            "\n",
            "\n",
            "\n",
            "  0%|          | 0/602 [00:00<?, ?it/s]\u001b[A\u001b[A\u001b[A\u001b[A\u001b[A\u001b[A\u001b[A\u001b[A\u001b[A\u001b[A\u001b[A"
          ],
          "name": "stderr"
        },
        {
          "output_type": "stream",
          "text": [
            "\n",
            "Test set: Average Loss: 7.5006, Test Accuracy: 14461/33000 (43.82%)\n",
            "\n",
            "EPOCH: 12\n",
            "LR used in this epoch is: 0.09938441949208877\n",
            "\n",
            "Train set: Average loss: 1.8161, Train Accuracy: (93.51%)\n",
            "\n"
          ],
          "name": "stdout"
        },
        {
          "output_type": "stream",
          "text": [
            "\n",
            "\n",
            "\n",
            "\n",
            "\n",
            "\n",
            "\n",
            "\n",
            "\n",
            "\n",
            "\n",
            "\n",
            "  0%|          | 0/602 [00:00<?, ?it/s]\u001b[A\u001b[A\u001b[A\u001b[A\u001b[A\u001b[A\u001b[A\u001b[A\u001b[A\u001b[A\u001b[A\u001b[A"
          ],
          "name": "stderr"
        },
        {
          "output_type": "stream",
          "text": [
            "\n",
            "Test set: Average Loss: 8.2116, Test Accuracy: 15028/33000 (45.54%)\n",
            "\n",
            "EPOCH: 13\n",
            "LR used in this epoch is: 0.09861850154589975\n",
            "\n",
            "Train set: Average loss: 0.9622, Train Accuracy: (96.73%)\n",
            "\n"
          ],
          "name": "stdout"
        },
        {
          "output_type": "stream",
          "text": [
            "\n",
            "\n",
            "\n",
            "\n",
            "\n",
            "\n",
            "\n",
            "\n",
            "\n",
            "\n",
            "\n",
            "\n",
            "\n",
            "  0%|          | 0/602 [00:00<?, ?it/s]\u001b[A\u001b[A\u001b[A\u001b[A\u001b[A\u001b[A\u001b[A\u001b[A\u001b[A\u001b[A\u001b[A\u001b[A\u001b[A"
          ],
          "name": "stderr"
        },
        {
          "output_type": "stream",
          "text": [
            "\n",
            "Test set: Average Loss: 8.1503, Test Accuracy: 15500/33000 (46.97%)\n",
            "\n",
            "EPOCH: 14\n",
            "LR used in this epoch is: 0.09755283560345443\n",
            "\n",
            "Train set: Average loss: 0.4145, Train Accuracy: (98.81%)\n",
            "\n"
          ],
          "name": "stdout"
        },
        {
          "output_type": "stream",
          "text": [
            "\n",
            "\n",
            "\n",
            "\n",
            "\n",
            "\n",
            "\n",
            "\n",
            "\n",
            "\n",
            "\n",
            "\n",
            "\n",
            "\n",
            "  0%|          | 0/602 [00:00<?, ?it/s]\u001b[A\u001b[A\u001b[A\u001b[A\u001b[A\u001b[A\u001b[A\u001b[A\u001b[A\u001b[A\u001b[A\u001b[A\u001b[A\u001b[A"
          ],
          "name": "stderr"
        },
        {
          "output_type": "stream",
          "text": [
            "\n",
            "Test set: Average Loss: 8.3088, Test Accuracy: 15782/33000 (47.82%)\n",
            "\n",
            "EPOCH: 15\n",
            "LR used in this epoch is: 0.09619399184965784\n",
            "\n",
            "Train set: Average loss: 0.1431, Train Accuracy: (99.76%)\n",
            "\n"
          ],
          "name": "stdout"
        },
        {
          "output_type": "stream",
          "text": [
            "\n",
            "\n",
            "\n",
            "\n",
            "\n",
            "\n",
            "\n",
            "\n",
            "\n",
            "\n",
            "\n",
            "\n",
            "\n",
            "\n",
            "\n",
            "  0%|          | 0/602 [00:00<?, ?it/s]\u001b[A\u001b[A\u001b[A\u001b[A\u001b[A\u001b[A\u001b[A\u001b[A\u001b[A\u001b[A\u001b[A\u001b[A\u001b[A\u001b[A\u001b[A"
          ],
          "name": "stderr"
        },
        {
          "output_type": "stream",
          "text": [
            "\n",
            "Test set: Average Loss: 7.8526, Test Accuracy: 16453/33000 (49.86%)\n",
            "\n",
            "EPOCH: 16\n",
            "LR used in this epoch is: 0.09455034800811356\n",
            "\n",
            "Train set: Average loss: 0.0542, Train Accuracy: (99.95%)\n",
            "\n"
          ],
          "name": "stdout"
        },
        {
          "output_type": "stream",
          "text": [
            "\n",
            "\n",
            "\n",
            "\n",
            "\n",
            "\n",
            "\n",
            "\n",
            "\n",
            "\n",
            "\n",
            "\n",
            "\n",
            "\n",
            "\n",
            "\n",
            "  0%|          | 0/602 [00:00<?, ?it/s]\u001b[A\u001b[A\u001b[A\u001b[A\u001b[A\u001b[A\u001b[A\u001b[A\u001b[A\u001b[A\u001b[A\u001b[A\u001b[A\u001b[A\u001b[A\u001b[A"
          ],
          "name": "stderr"
        },
        {
          "output_type": "stream",
          "text": [
            "\n",
            "Test set: Average Loss: 7.7688, Test Accuracy: 16730/33000 (50.70%)\n",
            "\n",
            "EPOCH: 17\n",
            "LR used in this epoch is: 0.09263203768967174\n",
            "\n",
            "Train set: Average loss: 0.0346, Train Accuracy: (99.97%)\n",
            "\n"
          ],
          "name": "stdout"
        },
        {
          "output_type": "stream",
          "text": [
            "\n",
            "\n",
            "\n",
            "\n",
            "\n",
            "\n",
            "\n",
            "\n",
            "\n",
            "\n",
            "\n",
            "\n",
            "\n",
            "\n",
            "\n",
            "\n",
            "\n",
            "  0%|          | 0/602 [00:00<?, ?it/s]\u001b[A\u001b[A\u001b[A\u001b[A\u001b[A\u001b[A\u001b[A\u001b[A\u001b[A\u001b[A\u001b[A\u001b[A\u001b[A\u001b[A\u001b[A\u001b[A\u001b[A"
          ],
          "name": "stderr"
        },
        {
          "output_type": "stream",
          "text": [
            "\n",
            "Test set: Average Loss: 7.7069, Test Accuracy: 16891/33000 (51.18%)\n",
            "\n",
            "EPOCH: 18\n",
            "LR used in this epoch is: 0.0904508879153485\n",
            "\n",
            "Train set: Average loss: 0.0356, Train Accuracy: (99.97%)\n",
            "\n"
          ],
          "name": "stdout"
        },
        {
          "output_type": "stream",
          "text": [
            "\n",
            "\n",
            "\n",
            "\n",
            "\n",
            "\n",
            "\n",
            "\n",
            "\n",
            "\n",
            "\n",
            "\n",
            "\n",
            "\n",
            "\n",
            "\n",
            "\n",
            "\n",
            "  0%|          | 0/602 [00:00<?, ?it/s]\u001b[A\u001b[A\u001b[A\u001b[A\u001b[A\u001b[A\u001b[A\u001b[A\u001b[A\u001b[A\u001b[A\u001b[A\u001b[A\u001b[A\u001b[A\u001b[A\u001b[A\u001b[A"
          ],
          "name": "stderr"
        },
        {
          "output_type": "stream",
          "text": [
            "\n",
            "Test set: Average Loss: 7.7154, Test Accuracy: 16912/33000 (51.25%)\n",
            "\n",
            "EPOCH: 19\n",
            "LR used in this epoch is: 0.08802034619880844\n",
            "\n",
            "Train set: Average loss: 0.0312, Train Accuracy: (99.97%)\n",
            "\n"
          ],
          "name": "stdout"
        }
      ]
    }
  ]
}